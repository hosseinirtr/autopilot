{
 "cells": [
  {
   "cell_type": "code",
   "execution_count": 1,
   "id": "8c56188c",
   "metadata": {},
   "outputs": [],
   "source": [
    "import cv2\n",
    "import numpy as np\n",
    "import matplotlib.pyplot as plt\n",
    "image = cv2.imread('./road_test.jpg')\n"
   ]
  },
  {
   "cell_type": "code",
   "execution_count": 13,
   "id": "68410dd3",
   "metadata": {},
   "outputs": [
    {
     "data": {
      "text/plain": [
       "-1"
      ]
     },
     "execution_count": 13,
     "metadata": {},
     "output_type": "execute_result"
    }
   ],
   "source": [
    "lane_img = np.copy(image)\n",
    "\n",
    "def canny(img):\n",
    "    gray = cv2.cvtColor(lane_img,cv2.COLOR_RGB2GRAY)\n",
    "    blur = cv2.GaussianBlur(gray,(5,5),0)\n",
    "    canny = cv2.Canny(blur,50,150)\n",
    "    return canny\n",
    "def display_lines(img,lines):\n",
    "    line_img = np.zeros_like(img)\n",
    "    if lines is not None:\n",
    "        for line in lines:\n",
    "            x1,y1,x2,y2 = line.reshape(4)\n",
    "            cv2.line(line_img,(x1,y1),(x2,y2),(255,0,0),10)\n",
    "    return line_img\n",
    "#             print([x1,y1,x2,y2])\n",
    "\n",
    "\n",
    "def region_of_interst(image):\n",
    "    height = image.shape[0]\n",
    "    polygons = np.array([\n",
    "        [(200,height),(1100,height),(550,250)]\n",
    "    ])\n",
    "    mask = np.zeros_like(image)\n",
    "    cv2.fillPoly(mask,polygons,255)\n",
    "    masked_img = cv2.bitwise_and(image,mask)\n",
    "    return masked_img\n",
    "    \n",
    "canny = canny(lane_img)\n",
    "lane_img = np.copy(image) \n",
    "cropped_img = region_of_interst(canny)\n",
    "lines = cv2.HoughLinesP(cropped_img,2,np.pi/180,100,np.array([]),minLineLength=40,maxLineGap=5)\n",
    "# plt.imshow(canny)\n",
    "line_img = display_lines(lane_img,lines)\n",
    "combo_img = cv2.addWeighted(lane_img,0.8, line_img,1,1)\n",
    "cv2.imshow('road', combo_img)\n",
    "cv2.waitKey(0)\n",
    "\n"
   ]
  },
  {
   "cell_type": "code",
   "execution_count": null,
   "id": "43eeaecd",
   "metadata": {},
   "outputs": [],
   "source": []
  }
 ],
 "metadata": {
  "kernelspec": {
   "display_name": "Python 3 (ipykernel)",
   "language": "python",
   "name": "python3"
  },
  "language_info": {
   "codemirror_mode": {
    "name": "ipython",
    "version": 3
   },
   "file_extension": ".py",
   "mimetype": "text/x-python",
   "name": "python",
   "nbconvert_exporter": "python",
   "pygments_lexer": "ipython3",
   "version": "3.10.6"
  }
 },
 "nbformat": 4,
 "nbformat_minor": 5
}
