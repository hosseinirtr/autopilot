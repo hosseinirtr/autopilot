{
 "cells": [
  {
   "cell_type": "code",
   "execution_count": 71,
   "id": "8c56188c",
   "metadata": {},
   "outputs": [],
   "source": [
    "import cv2\n",
    "import numpy as np\n",
    "import matplotlib.pyplot as plt\n",
    "image = cv2.imread('./1200px-Road_in_Norway.jpg')\n",
    "lane_img = np.copy(image)\n"
   ]
  },
  {
   "cell_type": "code",
   "execution_count": 72,
   "id": "49b7d629",
   "metadata": {},
   "outputs": [],
   "source": [
    "def make_coordinates(image,line_parameters):\n",
    "    slope , intercept = line_parameters\n",
    "    y1 = image.shape[0]\n",
    "    y2 = int(y1*(1/5))\n",
    "    \n",
    "    x1 = int((y1 - intercept)/slope)\n",
    "    x2 = int((y2 - intercept)/slope)\n",
    "    return np.array([x1,y1,x2,y2])\n",
    "    "
   ]
  },
  {
   "cell_type": "code",
   "execution_count": 73,
   "id": "7adb2f7b",
   "metadata": {},
   "outputs": [],
   "source": [
    "def canny(img):\n",
    "    gray = cv2.cvtColor(lane_img,cv2.COLOR_RGB2GRAY)\n",
    "    blur = cv2.GaussianBlur(gray,(5,5),0)\n",
    "    canny = cv2.Canny(blur,50,150)\n",
    "    return canny\n",
    "\n",
    "canny = canny(lane_img)\n"
   ]
  },
  {
   "cell_type": "code",
   "execution_count": 74,
   "id": "14876793",
   "metadata": {},
   "outputs": [],
   "source": [
    "def display_lines(img,lines):\n",
    "    line_img = np.zeros_like(img)\n",
    "    if lines is not None:\n",
    "        for line in lines:\n",
    "            x1,y1,x2,y2 = line.reshape(4)\n",
    "            cv2.line(line_img,(x1,y1),(x2,y2),(255,0,0),10)\n",
    "    return line_img\n",
    "#             print([x1,y1,x2,y2])"
   ]
  },
  {
   "cell_type": "code",
   "execution_count": 75,
   "id": "edfdd099",
   "metadata": {},
   "outputs": [],
   "source": [
    "def region_of_interst(image):\n",
    "    height = image.shape[0]\n",
    "    polygons = np.array([\n",
    "        [(200,height),(1100,height),(550,250)]\n",
    "    ])\n",
    "    mask = np.zeros_like(image)\n",
    "    cv2.fillPoly(mask,polygons,255)\n",
    "    masked_img = cv2.bitwise_and(image,mask)\n",
    "    return masked_img"
   ]
  },
  {
   "cell_type": "code",
   "execution_count": 76,
   "id": "68410dd3",
   "metadata": {},
   "outputs": [
    {
     "name": "stdout",
     "output_type": "stream",
     "text": [
      "None\n"
     ]
    }
   ],
   "source": [
    "# canny = canny(lane_img)\n",
    "lane_img = np.copy(image) \n",
    "cropped_img = region_of_interst(canny)\n",
    "lines = cv2.HoughLinesP(cropped_img,2,np.pi/180,100,np.array([]),minLineLength=40,maxLineGap=5)\n",
    "print(lines)\n",
    "# averaged_lines = acerage_slope_intercepr(lane_img,lines)\n",
    "# line_img = display_lines(lane_img,averaged_lines)\n",
    "# combo_img = cv2.addWeighted(lane_img,0.8, line_img,1,1)\n",
    "# cv2.imshow('road', combo_img)\n",
    "# cv2.waitKey(0)"
   ]
  },
  {
   "cell_type": "code",
   "execution_count": null,
   "id": "5bb6ab76",
   "metadata": {},
   "outputs": [],
   "source": []
  }
 ],
 "metadata": {
  "kernelspec": {
   "display_name": "Python 3 (ipykernel)",
   "language": "python",
   "name": "python3"
  },
  "language_info": {
   "codemirror_mode": {
    "name": "ipython",
    "version": 3
   },
   "file_extension": ".py",
   "mimetype": "text/x-python",
   "name": "python",
   "nbconvert_exporter": "python",
   "pygments_lexer": "ipython3",
   "version": "3.10.6"
  }
 },
 "nbformat": 4,
 "nbformat_minor": 5
}
