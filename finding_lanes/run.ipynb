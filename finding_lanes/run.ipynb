{
 "cells": [
  {
   "cell_type": "code",
   "execution_count": 2,
   "id": "8c56188c",
   "metadata": {},
   "outputs": [],
   "source": [
    "import cv2\n",
    "import numpy as np\n",
    "import matplotlib.pyplot as plt\n",
    "\n",
    "image = cv2.imread('./assets/road_test.jpg')\n",
    "lane_img = np.copy(image)\n"
   ]
  },
  {
   "cell_type": "code",
   "execution_count": 3,
   "id": "49b7d629",
   "metadata": {},
   "outputs": [],
   "source": [
    "def make_coordinates(image,line_parameters):\n",
    "    slope , intercept = line_parameters\n",
    "    y1 = image.shape[0]\n",
    "    y2 = int(y1*(3/5))\n",
    "    \n",
    "    x1 = int((y1 - intercept)/slope)\n",
    "    x2 = int((y2 - intercept)/slope)\n",
    "    return np.array([x1,y1,x2,y2])\n",
    "    "
   ]
  },
  {
   "cell_type": "code",
   "execution_count": 4,
   "id": "8460a8de",
   "metadata": {},
   "outputs": [],
   "source": [
    "def acerage_slope_intercepr(image, lines):\n",
    "    left_fit = []\n",
    "    right_fit = []\n",
    "    for line in lines:\n",
    "        x1,y1,x2,y2 = line.reshape(4)\n",
    "        parametrs = np.polyfit((x1,x2),(y1,y2),1)\n",
    "        slope = parametrs[0]\n",
    "        intercept = parametrs[1]\n",
    "#         print('slope',slope,'intercept',intercept)\n",
    "        if slope < 0:\n",
    "            left_fit.append((slope,intercept))\n",
    "        else:\n",
    "            right_fit.append((slope,intercept))\n",
    "    left_fit_average = np.average(left_fit,axis=0)\n",
    "    right_fit_average = np.average(right_fit,axis=0)\n",
    "#     print('left fit is {} '.format(left_fit))\n",
    "#     print('right fit is {}'.format(right_fit))\n",
    "#     print('left fit average is {} '.format(left_fit_average))\n",
    "#     print('right fit average is {}'.format(right_fit_average))\n",
    "    left_line = make_coordinates(image,left_fit_average)\n",
    "    right_line = make_coordinates(image,right_fit_average)\n",
    "#     print(\"right_line\",right_line)\n",
    "#     print(\"left_line\",left_line)\n",
    "    return np.array([left_line,right_line])\n",
    "            "
   ]
  },
  {
   "cell_type": "code",
   "execution_count": 5,
   "id": "7adb2f7b",
   "metadata": {},
   "outputs": [],
   "source": [
    "def canny(img):\n",
    "    gray = cv2.cvtColor(lane_img,cv2.COLOR_RGB2GRAY)\n",
    "    blur = cv2.GaussianBlur(gray,(5,5),0)\n",
    "    canny = cv2.Canny(blur,50,150)\n",
    "    return canny\n",
    "\n"
   ]
  },
  {
   "cell_type": "code",
   "execution_count": 6,
   "id": "14876793",
   "metadata": {},
   "outputs": [],
   "source": [
    "def display_lines(img,lines):\n",
    "    line_img = np.zeros_like(img)\n",
    "    if lines is not None:\n",
    "        for line in lines:\n",
    "            x1,y1,x2,y2 = line.reshape(4)\n",
    "            cv2.line(line_img,(x1,y1),(x2,y2),(255,0,0),10)\n",
    "    return line_img\n",
    "#             print([x1,y1,x2,y2])"
   ]
  },
  {
   "cell_type": "code",
   "execution_count": 7,
   "id": "edfdd099",
   "metadata": {},
   "outputs": [],
   "source": [
    "def region_of_interst(image):\n",
    "    height = image.shape[0]\n",
    "    polygons = np.array([\n",
    "        [(200,height),(1100,height),(550,250)]\n",
    "    ])\n",
    "    mask = np.zeros_like(image)\n",
    "    cv2.fillPoly(mask,polygons,255)\n",
    "    masked_img = cv2.bitwise_and(image,mask)\n",
    "    return masked_img"
   ]
  },
  {
   "cell_type": "code",
   "execution_count": 8,
   "id": "68410dd3",
   "metadata": {
    "scrolled": true
   },
   "outputs": [
    {
     "ename": "AttributeError",
     "evalue": "'NoneType' object has no attribute 'shape'",
     "output_type": "error",
     "traceback": [
      "\u001b[0;31m---------------------------------------------------------------------------\u001b[0m",
      "\u001b[0;31mAttributeError\u001b[0m                            Traceback (most recent call last)",
      "Input \u001b[0;32mIn [8]\u001b[0m, in \u001b[0;36m<cell line: 12>\u001b[0;34m()\u001b[0m\n\u001b[1;32m     15\u001b[0m cropped_frame \u001b[38;5;241m=\u001b[39m region_of_interst(canny_frame)\n\u001b[1;32m     16\u001b[0m lines \u001b[38;5;241m=\u001b[39m cv2\u001b[38;5;241m.\u001b[39mHoughLinesP(cropped_frame,\u001b[38;5;241m2\u001b[39m,np\u001b[38;5;241m.\u001b[39mpi\u001b[38;5;241m/\u001b[39m\u001b[38;5;241m180\u001b[39m,\u001b[38;5;241m100\u001b[39m,np\u001b[38;5;241m.\u001b[39marray([]),minLineLength\u001b[38;5;241m=\u001b[39m\u001b[38;5;241m40\u001b[39m,maxLineGap\u001b[38;5;241m=\u001b[39m\u001b[38;5;241m5\u001b[39m)\n\u001b[0;32m---> 17\u001b[0m averaged_lines \u001b[38;5;241m=\u001b[39m \u001b[43macerage_slope_intercepr\u001b[49m\u001b[43m(\u001b[49m\u001b[43mframe\u001b[49m\u001b[43m,\u001b[49m\u001b[43mlines\u001b[49m\u001b[43m)\u001b[49m\n\u001b[1;32m     18\u001b[0m line_frame \u001b[38;5;241m=\u001b[39m display_lines(frame,averaged_lines)\n\u001b[1;32m     19\u001b[0m combo_frame \u001b[38;5;241m=\u001b[39m cv2\u001b[38;5;241m.\u001b[39maddWeighted(frame,\u001b[38;5;241m0.8\u001b[39m, line_frame,\u001b[38;5;241m1\u001b[39m,\u001b[38;5;241m1\u001b[39m)\n",
      "Input \u001b[0;32mIn [4]\u001b[0m, in \u001b[0;36macerage_slope_intercepr\u001b[0;34m(image, lines)\u001b[0m\n\u001b[1;32m     15\u001b[0m     right_fit_average \u001b[38;5;241m=\u001b[39m np\u001b[38;5;241m.\u001b[39maverage(right_fit,axis\u001b[38;5;241m=\u001b[39m\u001b[38;5;241m0\u001b[39m)\n\u001b[1;32m     16\u001b[0m \u001b[38;5;66;03m#     print('left fit is {} '.format(left_fit))\u001b[39;00m\n\u001b[1;32m     17\u001b[0m \u001b[38;5;66;03m#     print('right fit is {}'.format(right_fit))\u001b[39;00m\n\u001b[1;32m     18\u001b[0m \u001b[38;5;66;03m#     print('left fit average is {} '.format(left_fit_average))\u001b[39;00m\n\u001b[1;32m     19\u001b[0m \u001b[38;5;66;03m#     print('right fit average is {}'.format(right_fit_average))\u001b[39;00m\n\u001b[0;32m---> 20\u001b[0m     left_line \u001b[38;5;241m=\u001b[39m \u001b[43mmake_coordinates\u001b[49m\u001b[43m(\u001b[49m\u001b[43mimage\u001b[49m\u001b[43m,\u001b[49m\u001b[43mleft_fit_average\u001b[49m\u001b[43m)\u001b[49m\n\u001b[1;32m     21\u001b[0m     right_line \u001b[38;5;241m=\u001b[39m make_coordinates(image,right_fit_average)\n\u001b[1;32m     22\u001b[0m \u001b[38;5;66;03m#     print(\"right_line\",right_line)\u001b[39;00m\n\u001b[1;32m     23\u001b[0m \u001b[38;5;66;03m#     print(\"left_line\",left_line)\u001b[39;00m\n",
      "Input \u001b[0;32mIn [3]\u001b[0m, in \u001b[0;36mmake_coordinates\u001b[0;34m(image, line_parameters)\u001b[0m\n\u001b[1;32m      1\u001b[0m \u001b[38;5;28;01mdef\u001b[39;00m \u001b[38;5;21mmake_coordinates\u001b[39m(image,line_parameters):\n\u001b[1;32m      2\u001b[0m     slope , intercept \u001b[38;5;241m=\u001b[39m line_parameters\n\u001b[0;32m----> 3\u001b[0m     y1 \u001b[38;5;241m=\u001b[39m \u001b[43mimage\u001b[49m\u001b[38;5;241;43m.\u001b[39;49m\u001b[43mshape\u001b[49m[\u001b[38;5;241m0\u001b[39m]\n\u001b[1;32m      4\u001b[0m     y2 \u001b[38;5;241m=\u001b[39m \u001b[38;5;28mint\u001b[39m(y1\u001b[38;5;241m*\u001b[39m(\u001b[38;5;241m3\u001b[39m\u001b[38;5;241m/\u001b[39m\u001b[38;5;241m5\u001b[39m))\n\u001b[1;32m      6\u001b[0m     x1 \u001b[38;5;241m=\u001b[39m \u001b[38;5;28mint\u001b[39m((y1 \u001b[38;5;241m-\u001b[39m intercept)\u001b[38;5;241m/\u001b[39mslope)\n",
      "\u001b[0;31mAttributeError\u001b[0m: 'NoneType' object has no attribute 'shape'"
     ]
    }
   ],
   "source": [
    "lane_img = np.copy(image) \n",
    "canny_img = canny(lane_img)\n",
    "cropped_img = region_of_interst(canny_img)\n",
    "lines = cv2.HoughLinesP(cropped_img,2,np.pi/180,100,np.array([]),minLineLength=40,maxLineGap=5)\n",
    "averaged_lines = acerage_slope_intercepr(lane_img,lines)\n",
    "line_img = display_lines(lane_img,averaged_lines)\n",
    "combo_img = cv2.addWeighted(lane_img,0.8, line_img,1,1)\n",
    "cv2.imshow('road', combo_img)\n",
    "cv2.waitKey(0)\n",
    "\n",
    "cap = cv2.VideoCapture('./assets/test2.mp4')\n",
    "while (cap.isOpened()):\n",
    "    _, frame = cap.read()\n",
    "    canny_frame = canny(frame)\n",
    "    cropped_frame = region_of_interst(canny_frame)\n",
    "    lines = cv2.HoughLinesP(cropped_frame,2,np.pi/180,100,np.array([]),minLineLength=40,maxLineGap=5)\n",
    "    averaged_lines = acerage_slope_intercepr(frame,lines)\n",
    "    line_frame = display_lines(frame,averaged_lines)\n",
    "    combo_frame = cv2.addWeighted(frame,0.8, line_frame,1,1)\n",
    "    cv2.imshow('road', combo_frame)\n",
    "    \n",
    "#     v2 ->\n",
    "#     lane_img = frame\n",
    "#     canny_img = canny(lane_img)\n",
    "#     cropped_img = region_of_interst(canny_img)\n",
    "#     lines = cv2.HoughLinesP(cropped_img,2,np.pi/180,100,np.array([]),minLineLength=40,maxLineGap=5)\n",
    "#     averaged_lines = acerage_slope_intercepr(lane_img,lines)\n",
    "#     line_img = display_lines(lane_img,averaged_lines)\n",
    "#     combo_img = cv2.addWeighted(lane_img,0.8, line_img,1,1)\n",
    "#     cv2.imshow('road', combo_img)\n",
    "#     cv2.waitKey(0)\n",
    "    \n",
    "    if cv2.waitKey(1) == ord('q'):\n",
    "        break\n",
    "cap.release()\n",
    "cv2.destroyAllWindows()"
   ]
  },
  {
   "cell_type": "code",
   "execution_count": null,
   "id": "5bb6ab76",
   "metadata": {},
   "outputs": [],
   "source": []
  }
 ],
 "metadata": {
  "kernelspec": {
   "display_name": "Python 3 (ipykernel)",
   "language": "python",
   "name": "python3"
  },
  "language_info": {
   "codemirror_mode": {
    "name": "ipython",
    "version": 3
   },
   "file_extension": ".py",
   "mimetype": "text/x-python",
   "name": "python",
   "nbconvert_exporter": "python",
   "pygments_lexer": "ipython3",
   "version": "3.10.6"
  }
 },
 "nbformat": 4,
 "nbformat_minor": 5
}
